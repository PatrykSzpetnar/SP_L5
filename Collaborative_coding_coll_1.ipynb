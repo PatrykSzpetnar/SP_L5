{
  "cells": [
    {
      "cell_type": "markdown",
      "id": "e2ad20ef",
      "metadata": {
        "id": "e2ad20ef"
      },
      "source": [
        "Collaborative coding using GitHub\n",
        "===========\n",
        "\n",
        "Alexandre Perera Luna, Mónica Rojas Martínez\n",
        "\n",
        "December 15th 2023\n"
      ]
    },
    {
      "cell_type": "markdown",
      "id": "9f9faf46",
      "metadata": {
        "id": "9f9faf46"
      },
      "source": [
        "# Goal\n",
        "\n",
        "The objective of this assignment is to construct a project through collaborative coding, showcasing an Exploratory Data Analysis (EDA) and a classification. To facilitate your understanding of GitHub, we will utilize code snippets from previous exercises, allowing you to focus on the process without concerns about the final outcome. The current notebook will serve as the main function in the project, and each participant is required to develop additional components and integrate their contributions into the main branch.\n",
        "\n",
        "\n",
        "## Requirements\n",
        "\n",
        "In order to work with functions created in other jupyter notebooks you need to install the package `nbimporter` using a shell and the following command:\n",
        "\n",
        "<font color='grey'>pip install nbimporter</font>\n",
        "\n",
        "`nbimporter` allows you to import jupyter notebooks as modules. Once intalled and imported, you can use a command like the following to import a function called *fibonacci* that is stored on a notebook *fibbo_func* in the same path as the present notebook:\n",
        "\n",
        "<font color='green'>from</font> fibbo_func <font color='green'>import</font> fibbonaci  <font color='green'>as</font> fibbo\n",
        "\n"
      ]
    },
    {
      "cell_type": "code",
      "execution_count": null,
      "id": "eccb4045",
      "metadata": {
        "id": "eccb4045"
      },
      "outputs": [],
      "source": [
        "## Modify this cell by importing all the necessary modules you need to solve the assigmnent. Observe that we are importing\n",
        "## the library nbimporter. You will need it for calling fuctions created in other notebooks.\n",
        "import nbimporter\n",
        "import pandas as pd\n",
        "\n"
      ]
    },
    {
      "cell_type": "code",
      "execution_count": null,
      "id": "78a064a3",
      "metadata": {
        "id": "78a064a3",
        "outputId": "5c4413f9-64a0-4e41-c071-5d7ad5c406fb"
      },
      "outputs": [
        {
          "data": {
            "text/plain": [
              "46368"
            ]
          },
          "execution_count": 12,
          "metadata": {},
          "output_type": "execute_result"
        }
      ],
      "source": [
        "# Here is an example of invoking the Fibonacci function, whisch should be located in the same directory as the main:\n",
        "from fibbo_func import fibbonaci as fibbo\n",
        "fibbo(24)"
      ]
    },
    {
      "cell_type": "markdown",
      "id": "4fb6f6b0",
      "metadata": {
        "id": "4fb6f6b0"
      },
      "source": [
        "## Exercises\n",
        "As an illustration of Git workflow, you will analyze the *Parkinson's* dataset, which has been previously examined in past assignments. Each team member has specific responsibilities that may be crucial for the progress of others. Make sure all of you organize your tasks accordingly. We've structured the analysis into modules to assist you in tracking your tasks, but feel free to deviate from it if you prefer.   \n",
        "Please use Markdown cells for describing your workflow and expalining the findings of your work.\n",
        "Remember you need both, to modify this notebook and, to create additional functions outside. Your work will only be available for others when you modify and merge your changes.\n"
      ]
    },
    {
      "cell_type": "code",
      "execution_count": null,
      "id": "8f8690e3",
      "metadata": {
        "id": "8f8690e3",
        "outputId": "fdb9d87c-dd75-4281-945d-965ede2bf8e2"
      },
      "outputs": [
        {
          "data": {
            "text/html": [
              "<div>\n",
              "<style scoped>\n",
              "    .dataframe tbody tr th:only-of-type {\n",
              "        vertical-align: middle;\n",
              "    }\n",
              "\n",
              "    .dataframe tbody tr th {\n",
              "        vertical-align: top;\n",
              "    }\n",
              "\n",
              "    .dataframe thead th {\n",
              "        text-align: right;\n",
              "    }\n",
              "</style>\n",
              "<table border=\"1\" class=\"dataframe\">\n",
              "  <thead>\n",
              "    <tr style=\"text-align: right;\">\n",
              "      <th></th>\n",
              "      <th>name</th>\n",
              "      <th>MDVP:Fo(Hz)</th>\n",
              "      <th>MDVP:Fhi(Hz)</th>\n",
              "      <th>MDVP:Flo(Hz)</th>\n",
              "      <th>MDVP:Jitter(%)</th>\n",
              "      <th>MDVP:Jitter(Abs)</th>\n",
              "      <th>MDVP:RAP</th>\n",
              "      <th>MDVP:PPQ</th>\n",
              "      <th>Jitter:DDP</th>\n",
              "      <th>MDVP:Shimmer</th>\n",
              "      <th>...</th>\n",
              "      <th>Shimmer:DDA</th>\n",
              "      <th>NHR</th>\n",
              "      <th>HNR</th>\n",
              "      <th>status</th>\n",
              "      <th>RPDE</th>\n",
              "      <th>DFA</th>\n",
              "      <th>spread1</th>\n",
              "      <th>spread2</th>\n",
              "      <th>D2</th>\n",
              "      <th>PPE</th>\n",
              "    </tr>\n",
              "  </thead>\n",
              "  <tbody>\n",
              "    <tr>\n",
              "      <th>0</th>\n",
              "      <td>phon_R01_S01_1</td>\n",
              "      <td>119.992</td>\n",
              "      <td>157.302</td>\n",
              "      <td>74.997</td>\n",
              "      <td>0.00784</td>\n",
              "      <td>0.00007</td>\n",
              "      <td>0.00370</td>\n",
              "      <td>0.00554</td>\n",
              "      <td>0.01109</td>\n",
              "      <td>0.04374</td>\n",
              "      <td>...</td>\n",
              "      <td>0.06545</td>\n",
              "      <td>0.02211</td>\n",
              "      <td>21.033</td>\n",
              "      <td>1</td>\n",
              "      <td>0.414783</td>\n",
              "      <td>0.815285</td>\n",
              "      <td>-4.813031</td>\n",
              "      <td>0.266482</td>\n",
              "      <td>2.301442</td>\n",
              "      <td>0.284654</td>\n",
              "    </tr>\n",
              "    <tr>\n",
              "      <th>1</th>\n",
              "      <td>phon_R01_S01_2</td>\n",
              "      <td>122.400</td>\n",
              "      <td>148.650</td>\n",
              "      <td>113.819</td>\n",
              "      <td>0.00968</td>\n",
              "      <td>0.00008</td>\n",
              "      <td>0.00465</td>\n",
              "      <td>0.00696</td>\n",
              "      <td>0.01394</td>\n",
              "      <td>0.06134</td>\n",
              "      <td>...</td>\n",
              "      <td>0.09403</td>\n",
              "      <td>0.01929</td>\n",
              "      <td>19.085</td>\n",
              "      <td>1</td>\n",
              "      <td>0.458359</td>\n",
              "      <td>0.819521</td>\n",
              "      <td>-4.075192</td>\n",
              "      <td>0.335590</td>\n",
              "      <td>2.486855</td>\n",
              "      <td>0.368674</td>\n",
              "    </tr>\n",
              "    <tr>\n",
              "      <th>2</th>\n",
              "      <td>phon_R01_S01_3</td>\n",
              "      <td>116.682</td>\n",
              "      <td>131.111</td>\n",
              "      <td>111.555</td>\n",
              "      <td>0.01050</td>\n",
              "      <td>0.00009</td>\n",
              "      <td>0.00544</td>\n",
              "      <td>0.00781</td>\n",
              "      <td>0.01633</td>\n",
              "      <td>0.05233</td>\n",
              "      <td>...</td>\n",
              "      <td>0.08270</td>\n",
              "      <td>0.01309</td>\n",
              "      <td>20.651</td>\n",
              "      <td>1</td>\n",
              "      <td>0.429895</td>\n",
              "      <td>0.825288</td>\n",
              "      <td>-4.443179</td>\n",
              "      <td>0.311173</td>\n",
              "      <td>2.342259</td>\n",
              "      <td>0.332634</td>\n",
              "    </tr>\n",
              "    <tr>\n",
              "      <th>3</th>\n",
              "      <td>phon_R01_S01_4</td>\n",
              "      <td>116.676</td>\n",
              "      <td>137.871</td>\n",
              "      <td>111.366</td>\n",
              "      <td>0.00997</td>\n",
              "      <td>0.00009</td>\n",
              "      <td>0.00502</td>\n",
              "      <td>0.00698</td>\n",
              "      <td>0.01505</td>\n",
              "      <td>0.05492</td>\n",
              "      <td>...</td>\n",
              "      <td>0.08771</td>\n",
              "      <td>0.01353</td>\n",
              "      <td>20.644</td>\n",
              "      <td>1</td>\n",
              "      <td>0.434969</td>\n",
              "      <td>0.819235</td>\n",
              "      <td>-4.117501</td>\n",
              "      <td>0.334147</td>\n",
              "      <td>2.405554</td>\n",
              "      <td>0.368975</td>\n",
              "    </tr>\n",
              "    <tr>\n",
              "      <th>4</th>\n",
              "      <td>phon_R01_S01_5</td>\n",
              "      <td>116.014</td>\n",
              "      <td>141.781</td>\n",
              "      <td>110.655</td>\n",
              "      <td>0.01284</td>\n",
              "      <td>0.00011</td>\n",
              "      <td>0.00655</td>\n",
              "      <td>0.00908</td>\n",
              "      <td>0.01966</td>\n",
              "      <td>0.06425</td>\n",
              "      <td>...</td>\n",
              "      <td>0.10470</td>\n",
              "      <td>0.01767</td>\n",
              "      <td>19.649</td>\n",
              "      <td>1</td>\n",
              "      <td>0.417356</td>\n",
              "      <td>0.823484</td>\n",
              "      <td>-3.747787</td>\n",
              "      <td>0.234513</td>\n",
              "      <td>2.332180</td>\n",
              "      <td>0.410335</td>\n",
              "    </tr>\n",
              "  </tbody>\n",
              "</table>\n",
              "<p>5 rows × 24 columns</p>\n",
              "</div>"
            ],
            "text/plain": [
              "             name  MDVP:Fo(Hz)  MDVP:Fhi(Hz)  MDVP:Flo(Hz)  MDVP:Jitter(%)  \\\n",
              "0  phon_R01_S01_1      119.992       157.302        74.997         0.00784   \n",
              "1  phon_R01_S01_2      122.400       148.650       113.819         0.00968   \n",
              "2  phon_R01_S01_3      116.682       131.111       111.555         0.01050   \n",
              "3  phon_R01_S01_4      116.676       137.871       111.366         0.00997   \n",
              "4  phon_R01_S01_5      116.014       141.781       110.655         0.01284   \n",
              "\n",
              "   MDVP:Jitter(Abs)  MDVP:RAP  MDVP:PPQ  Jitter:DDP  MDVP:Shimmer  ...  \\\n",
              "0           0.00007   0.00370   0.00554     0.01109       0.04374  ...   \n",
              "1           0.00008   0.00465   0.00696     0.01394       0.06134  ...   \n",
              "2           0.00009   0.00544   0.00781     0.01633       0.05233  ...   \n",
              "3           0.00009   0.00502   0.00698     0.01505       0.05492  ...   \n",
              "4           0.00011   0.00655   0.00908     0.01966       0.06425  ...   \n",
              "\n",
              "   Shimmer:DDA      NHR     HNR  status      RPDE       DFA   spread1  \\\n",
              "0      0.06545  0.02211  21.033       1  0.414783  0.815285 -4.813031   \n",
              "1      0.09403  0.01929  19.085       1  0.458359  0.819521 -4.075192   \n",
              "2      0.08270  0.01309  20.651       1  0.429895  0.825288 -4.443179   \n",
              "3      0.08771  0.01353  20.644       1  0.434969  0.819235 -4.117501   \n",
              "4      0.10470  0.01767  19.649       1  0.417356  0.823484 -3.747787   \n",
              "\n",
              "    spread2        D2       PPE  \n",
              "0  0.266482  2.301442  0.284654  \n",
              "1  0.335590  2.486855  0.368674  \n",
              "2  0.311173  2.342259  0.332634  \n",
              "3  0.334147  2.405554  0.368975  \n",
              "4  0.234513  2.332180  0.410335  \n",
              "\n",
              "[5 rows x 24 columns]"
            ]
          },
          "execution_count": 13,
          "metadata": {},
          "output_type": "execute_result"
        }
      ],
      "source": [
        "# We will start by loading the parkinson dataset. The rest is up to you!\n",
        "df = pd.read_csv('parkinsons.data',\n",
        "                 dtype = { # indicate categorical variables\n",
        "                     'status': 'category'})\n",
        "df.head(5)"
      ]
    },
    {
      "cell_type": "markdown",
      "id": "9c433fda",
      "metadata": {
        "id": "9c433fda"
      },
      "source": [
        "### 1. Cleaning and tidying the dataset"
      ]
    },
    {
      "cell_type": "code",
      "execution_count": null,
      "id": "b34465cd",
      "metadata": {
        "id": "b34465cd"
      },
      "outputs": [],
      "source": [
        "# your code here\n",
        "def renamevars(df, dict_names):\n",
        "    renamed_df = df.rename(columns=dict_names)\n",
        "    return renamed_df\n",
        "\n",
        "dict_names = {'MDVP:Fo(Hz)':'avFF',\n",
        "              'MDVP:Fhi(Hz)':'maxFF',\n",
        "              'MDVP:Flo(Hz)':'minFF',\n",
        "              'MDVP:Jitter(Abs)':'absJitter' ,\n",
        "              'MDVP:PPQ': 'ppq',\n",
        "              'Jitter:DDP': 'ddp',\n",
        "              'MDVP:Shimmer' : 'lShimer',\n",
        "              'MDVP:Shimmer(dB)': 'dbShimer',\n",
        "              'Shimmer:APQ5': 'apq5',\n",
        "              'MDVP:APQ':'apq',\n",
        "              'Shimmer:DDA':'dda'}\n",
        "\n",
        "renamed_df = renamevars(cleaned_df,dict_names)\n",
        "renamed_df"
      ]
    },
    {
      "cell_type": "markdown",
      "id": "617353cb",
      "metadata": {
        "id": "617353cb"
      },
      "source": [
        "### 2. Basic EDA based on plots and descriptive statistics"
      ]
    },
    {
      "cell_type": "code",
      "execution_count": null,
      "id": "5e44f3a7",
      "metadata": {
        "id": "5e44f3a7"
      },
      "outputs": [],
      "source": [
        "# your code here\n",
        "def obtain_info(renamed_df):\n",
        "    # 1. Calculate the Number of Observations\n",
        "    num_observations = len(renamed_df)\n",
        "    print(\"Number of Observations:\", num_observations)\n",
        "    # Suponiendo que la columna que contiene el \"status\" se llama \"status\"\n",
        "    status_counts = renamed_df['status'].value_counts()\n",
        "    # Imprimir la cantidad de observaciones para cada estado\n",
        "    print(\"Status 0:\", status_counts.get(0, 0))\n",
        "    print(\"Status 1:\", status_counts.get(1, 0))\n",
        "    print(\" \")\n",
        "\n",
        "    # 2. Examine Differences between Controls and Patients\n",
        "    pd.set_option('display.max_rows', None)\n",
        "    pd.set_option('display.max_columns', None)\n",
        "    grouped_data = renamed_df.groupby('status', sort=False)\n",
        "    summary_stats = grouped_data.agg(['mean', 'std', 'max', 'min'])\n",
        "    print(\"Summary Statistics:\")\n",
        "    for group_name, group_data in summary_stats.groupby(level=0, axis=1, sort=False):\n",
        "        print(f\"\\nGroup: {group_name}\\n\")\n",
        "        print(group_data)\n",
        "        print()\n",
        "    pd.reset_option('display.max_rows')\n",
        "    pd.reset_option('display.max_columns')\n",
        "\n",
        "\n",
        "    # 4. Identify Outliers and Decide on Treatment\n",
        "    # Boxplot for each variable\n",
        "    label_encoder = LabelEncoder()\n",
        "    cleaned_df['status'] = label_encoder.fit_transform(renamed_df['status'])\n",
        "    # Filter numeric columns excluding 'status'\n",
        "    numeric_columns = [column for column in renamed_df.columns if column != 'status' and is_numeric_dtype(renamed_df[column])]\n",
        "    # Calculate the number of rows needed\n",
        "    num_columns = len(numeric_columns)\n",
        "    num_rows = (num_columns + 2) // 3\n",
        "    # Adjust subplots layout\n",
        "    fig, axes = plt.subplots(num_rows, 3, figsize=(15, 5 * num_rows))\n",
        "    # Remove empty subplots if there are fewer than 3 columns\n",
        "    for i in range(num_columns, num_rows * 3):\n",
        "        fig.delaxes(axes.flatten()[i])\n",
        "    # Iterate over numeric columns and create boxplots\n",
        "    for i, column in enumerate(numeric_columns):\n",
        "        row_index = i // 3\n",
        "        col_index = i % 3\n",
        "        ax = axes[row_index, col_index]\n",
        "        sns.boxplot(x='status', y=column, data=renamed_df, ax=ax)\n",
        "        ax.set_title(f'{column} vs status')\n",
        "\n",
        "    plt.tight_layout()\n",
        "    plt.show()\n",
        "\n",
        "plots_info = obtain_info(renamed_df)\n",
        "plots_info"
      ]
    },
    {
      "cell_type": "code",
      "source": [
        "def remove_outliers(group):\n",
        "    Q1 = group.quantile(0.25)\n",
        "    Q3 = group.quantile(0.75)\n",
        "    IQR = Q3 - Q1\n",
        "    lower_bound = Q1 - 1.5 * IQR\n",
        "    upper_bound = Q3 + 1.5 * IQR\n",
        "    return group[(group >= lower_bound) & (group <= upper_bound)]\n",
        "\n",
        "# Assuming 'renamed_df' is your DataFrame\n",
        "#numeric_columns = renamed_df.select_dtypes(include=['number']).columns\n",
        "\n",
        "# Apply the remove_outliers function to numeric columns based on 'status' groups\n",
        "#renamed_df[numeric_columns] = renamed_df.groupby('status')[numeric_columns].apply(remove_outliers).reset_index(drop=True)\n",
        "\n",
        "# Display the resulting DataFrame\n",
        "#renamed_df"
      ],
      "metadata": {
        "id": "IHAws2fPFPG5"
      },
      "id": "IHAws2fPFPG5",
      "execution_count": null,
      "outputs": []
    },
    {
      "cell_type": "markdown",
      "id": "9d38d201",
      "metadata": {
        "id": "9d38d201"
      },
      "source": [
        "### 3. Aggregating and transforming variables in the dataset"
      ]
    },
    {
      "cell_type": "code",
      "execution_count": null,
      "id": "03f75ef3",
      "metadata": {
        "id": "03f75ef3"
      },
      "outputs": [],
      "source": [
        "# your code here\n",
        "\n",
        "from sklearn.preprocessing import LabelEncoder\n",
        "label_encoder = LabelEncoder()\n",
        "renamed_df['status'] = label_encoder.fit_transform(renamed_df['status'])\n",
        "# Extract the 'Sxx' prefix from the 'name' column\n",
        "renamed_df['subject_id'] = renamed_df['subject_id'].str.extract(r'(S\\d+)')\n",
        "\n",
        "# Utilizamos la función para agrupar y calcular la media\n",
        "grouped_and_averaged = group_and_average(renamed_df, 'subject_id')\n",
        "\n",
        "# Imprimimos el resultado\n",
        "grouped_and_averaged['status'] = pd.cut(grouped_and_averaged['status'], bins=[0, 0.5,1], labels=[0,1], include_lowest=True)\n",
        "grouped_and_averaged"
      ]
    },
    {
      "cell_type": "markdown",
      "id": "4d095e42",
      "metadata": {
        "id": "4d095e42"
      },
      "source": [
        "### 4. Differentiating between controls (healthy subjects) and patients"
      ]
    },
    {
      "cell_type": "code",
      "execution_count": null,
      "id": "4cca1492",
      "metadata": {
        "id": "4cca1492"
      },
      "outputs": [],
      "source": [
        "# your code here"
      ]
    }
  ],
  "metadata": {
    "kernelspec": {
      "display_name": "Python 3",
      "language": "python",
      "name": "python3"
    },
    "language_info": {
      "codemirror_mode": {
        "name": "ipython",
        "version": 3
      },
      "file_extension": ".py",
      "mimetype": "text/x-python",
      "name": "python",
      "nbconvert_exporter": "python",
      "pygments_lexer": "ipython3",
      "version": "3.8.5"
    },
    "colab": {
      "provenance": []
    }
  },
  "nbformat": 4,
  "nbformat_minor": 5
}