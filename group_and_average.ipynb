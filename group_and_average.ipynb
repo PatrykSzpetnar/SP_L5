{
  "nbformat": 4,
  "nbformat_minor": 0,
  "metadata": {
    "colab": {
      "provenance": []
    },
    "kernelspec": {
      "name": "python3",
      "display_name": "Python 3"
    },
    "language_info": {
      "name": "python"
    }
  },
  "cells": [
    {
      "cell_type": "code",
      "execution_count": null,
      "metadata": {
        "id": "r5fMEu8dJd1A"
      },
      "outputs": [],
      "source": [
        "def group_and_average(df, gv):\n",
        "    # Grouping and averaging the dataframe by the given variable\n",
        "    av_df = df.groupby(gv).mean().reset_index()\n",
        "    return av_df"
      ]
    }
  ]
}