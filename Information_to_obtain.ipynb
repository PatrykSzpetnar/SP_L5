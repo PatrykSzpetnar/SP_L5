{
  "nbformat": 4,
  "nbformat_minor": 0,
  "metadata": {
    "colab": {
      "provenance": []
    },
    "kernelspec": {
      "name": "python3",
      "display_name": "Python 3"
    },
    "language_info": {
      "name": "python"
    }
  },
  "cells": [
    {
      "cell_type": "code",
      "execution_count": null,
      "metadata": {
        "id": "mayi7NIsF4Yw"
      },
      "outputs": [],
      "source": [
        "def obtain_info(renamed_df):\n",
        "    import seaborn as sns\n",
        "    import matplotlib.pyplot as plt\n",
        "    from sklearn.preprocessing import LabelEncoder\n",
        "    import pandas as pd\n",
        "    from pandas.api.types import is_numeric_dtype\n",
        "    # 1. Calculate the Number of Observations\n",
        "    num_observations = len(renamed_df)\n",
        "    print(\"Number of Observations:\", num_observations)\n",
        "    # Suponiendo que la columna que contiene el \"status\" se llama \"status\"\n",
        "    status_counts = renamed_df['status'].value_counts()\n",
        "    # Imprimir la cantidad de observaciones para cada estado\n",
        "    print(\"Status 0:\", status_counts.get(0, 0))\n",
        "    print(\"Status 1:\", status_counts.get(1, 0))\n",
        "    print(\" \")\n",
        "\n",
        "    # 2. Examine Differences between Controls and Patients\n",
        "    pd.set_option('display.max_rows', None)\n",
        "    pd.set_option('display.max_columns', None)\n",
        "    grouped_data = renamed_df.groupby('status', sort=False)\n",
        "    summary_stats = grouped_data.agg(['mean', 'std', 'max', 'min'])\n",
        "    print(\"Summary Statistics:\")\n",
        "    for group_name, group_data in summary_stats.groupby(level=0, axis=1, sort=False):\n",
        "        print(f\"\\nGroup: {group_name}\\n\")\n",
        "        print(group_data)\n",
        "        print()\n",
        "    pd.reset_option('display.max_rows')\n",
        "    pd.reset_option('display.max_columns')\n",
        "\n",
        "\n",
        "    # 4. Identify Outliers and Decide on Treatment\n",
        "    # Boxplot for each variable\n",
        "    label_encoder = LabelEncoder()\n",
        "    renamed_df['status'] = label_encoder.fit_transform(renamed_df['status'])\n",
        "    # Filter numeric columns excluding 'status'\n",
        "    numeric_columns = [column for column in renamed_df.columns if column != 'status' and is_numeric_dtype(renamed_df[column])]\n",
        "    # Calculate the number of rows needed\n",
        "    num_columns = len(numeric_columns)\n",
        "    num_rows = (num_columns + 2) // 3\n",
        "    # Adjust subplots layout\n",
        "    fig, axes = plt.subplots(num_rows, 3, figsize=(15, 5 * num_rows))\n",
        "    # Remove empty subplots if there are fewer than 3 columns\n",
        "    for i in range(num_columns, num_rows * 3):\n",
        "        fig.delaxes(axes.flatten()[i])\n",
        "    # Iterate over numeric columns and create boxplots\n",
        "    for i, column in enumerate(numeric_columns):\n",
        "        row_index = i // 3\n",
        "        col_index = i % 3\n",
        "        ax = axes[row_index, col_index]\n",
        "        sns.boxplot(x='status', y=column, data=renamed_df, ax=ax)\n",
        "        ax.set_title(f'{column} vs status')\n",
        "\n",
        "    plt.tight_layout()\n",
        "    plt.show()"
      ]
    }
  ]
}