{
  "nbformat": 4,
  "nbformat_minor": 0,
  "metadata": {
    "colab": {
      "provenance": []
    },
    "kernelspec": {
      "name": "python3",
      "display_name": "Python 3"
    },
    "language_info": {
      "name": "python"
    }
  },
  "cells": [
    {
      "cell_type": "code",
      "execution_count": null,
      "metadata": {
        "id": "U4j7Dk65ERop"
      },
      "outputs": [],
      "source": [
        "def group_and_average(cleaned_dataframe):\n",
        "    import pandas as pd\n",
        "    import warnings\n",
        "    warnings.filterwarnings(\"ignore\", category=FutureWarning, module=\"pandas\")\n",
        "\n",
        "    # Extract the 'phon_R01_Sxx' prefix from the 'name' column\n",
        "    cleaned_dataframe['subject_prefix'] = cleaned_dataframe['name'].str.extract(r'(phon_R01_S\\d+)')\n",
        "\n",
        "    # Define a function to remove outliers using IQR\n",
        "    def remove_outliers(group):\n",
        "        Q1 = group.quantile(0.25)\n",
        "        Q3 = group.quantile(0.75)\n",
        "        IQR = Q3 - Q1\n",
        "        lower_bound = Q1 - 1.5 * IQR\n",
        "        upper_bound = Q3 + 1.5 * IQR\n",
        "        return group[(group >= lower_bound) & (group <= upper_bound)]\n",
        "\n",
        "    # Remove outliers for each numeric column\n",
        "    numeric_columns = cleaned_dataframe.select_dtypes(include=['number']).columns\n",
        "    cleaned_dataframe[numeric_columns] = cleaned_dataframe.groupby('subject_prefix')[numeric_columns].apply(remove_outliers)\n",
        "\n",
        "    # Define the group_and_average_2 function with the numeric_only parameter\n",
        "    def group_and_average_2(group):\n",
        "        # This function takes a group of trials for a subject and returns a row with the averaged variables\n",
        "        return group.mean(numeric_only=True)\n",
        "\n",
        "    # Group and average by subject\n",
        "    aggregated_dataframe = cleaned_dataframe.groupby('subject_prefix').apply(group_and_average_2)\n",
        "\n",
        "    # Assign the index to the 'name' column\n",
        "    aggregated_dataframe['name'] = aggregated_dataframe.index\n",
        "\n",
        "    # Reorganize the columns to have 'name' at the beginning\n",
        "    aggregated_dataframe = aggregated_dataframe[['name'] + [col for col in aggregated_dataframe.columns if col != 'name']]\n",
        "\n",
        "    # Reset the index to have a flat DataFrame\n",
        "    aggregated_dataframe.reset_index(drop=True, inplace=True)\n",
        "\n",
        "    # Drop the auxiliary column 'subject_prefix' from the original DataFrame\n",
        "    cleaned_dataframe.drop('subject_prefix', axis=1, inplace=True)\n",
        "\n",
        "    return aggregated_dataframe"
      ]
    }
  ]
}