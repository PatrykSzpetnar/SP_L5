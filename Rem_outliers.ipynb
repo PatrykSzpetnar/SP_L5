{
  "nbformat": 4,
  "nbformat_minor": 0,
  "metadata": {
    "colab": {
      "provenance": []
    },
    "kernelspec": {
      "name": "python3",
      "display_name": "Python 3"
    },
    "language_info": {
      "name": "python"
    }
  },
  "cells": [
    {
      "cell_type": "code",
      "execution_count": null,
      "metadata": {
        "id": "g1Zm5BqFhn7b"
      },
      "outputs": [],
      "source": [
        "def remove_outliers(group):\n",
        "    Q1 = group.quantile(0.25)\n",
        "    Q3 = group.quantile(0.75)\n",
        "    IQR = Q3 - Q1\n",
        "    lower_bound = Q1 - 1.5 * IQR\n",
        "    upper_bound = Q3 + 1.5 * IQR\n",
        "    return group[(group >= lower_bound) & (group <= upper_bound)]"
      ]
    }
  ]
}