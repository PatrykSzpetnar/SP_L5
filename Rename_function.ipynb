{
  "nbformat": 4,
  "nbformat_minor": 0,
  "metadata": {
    "colab": {
      "provenance": []
    },
    "kernelspec": {
      "name": "python3",
      "display_name": "Python 3"
    },
    "language_info": {
      "name": "python"
    }
  },
  "cells": [
    {
      "cell_type": "code",
      "execution_count": null,
      "metadata": {
        "id": "MLUf4tfeECEv"
      },
      "outputs": [],
      "source": [
        "def renamevars(df, dict_names):\n",
        "    renamed_df = df.rename(columns=dict_names)\n",
        "    return renamed_df"
      ]
    }
  ]
}